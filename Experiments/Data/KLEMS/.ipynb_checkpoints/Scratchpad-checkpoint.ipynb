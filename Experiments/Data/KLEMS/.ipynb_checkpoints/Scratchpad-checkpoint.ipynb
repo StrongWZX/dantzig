{
 "cells": [
  {
   "cell_type": "code",
   "execution_count": 98,
   "metadata": {},
   "outputs": [],
   "source": [
    "import pandas as pd\n",
    "import numpy as np\n",
    "import matplotlib.pyplot as plt\n",
    "from mpl_toolkits.mplot3d import Axes3D\n",
    "from sklearn import linear_model"
   ]
  },
  {
   "cell_type": "code",
   "execution_count": 12,
   "metadata": {},
   "outputs": [],
   "source": [
    "output_file = \"all_output.csv\"\n",
    "capital_file = \"all_capital.csv\""
   ]
  },
  {
   "cell_type": "code",
   "execution_count": 60,
   "metadata": {},
   "outputs": [],
   "source": [
    "output_df = pd.read_csv(output_file)\n",
    "capital_df = pd.read_csv(capital_file)"
   ]
  },
  {
   "cell_type": "code",
   "execution_count": 61,
   "metadata": {},
   "outputs": [
    {
     "data": {
      "text/html": [
       "<div>\n",
       "<style scoped>\n",
       "    .dataframe tbody tr th:only-of-type {\n",
       "        vertical-align: middle;\n",
       "    }\n",
       "\n",
       "    .dataframe tbody tr th {\n",
       "        vertical-align: top;\n",
       "    }\n",
       "\n",
       "    .dataframe thead th {\n",
       "        text-align: right;\n",
       "    }\n",
       "</style>\n",
       "<table border=\"1\" class=\"dataframe\">\n",
       "  <thead>\n",
       "    <tr style=\"text-align: right;\">\n",
       "      <th></th>\n",
       "      <th>country</th>\n",
       "      <th>var</th>\n",
       "      <th>code</th>\n",
       "      <th>_1970</th>\n",
       "      <th>_1971</th>\n",
       "      <th>_1972</th>\n",
       "      <th>_1973</th>\n",
       "      <th>_1974</th>\n",
       "      <th>_1975</th>\n",
       "      <th>_1976</th>\n",
       "      <th>...</th>\n",
       "      <th>_2006</th>\n",
       "      <th>_2007</th>\n",
       "      <th>_2008</th>\n",
       "      <th>_2009</th>\n",
       "      <th>_2010</th>\n",
       "      <th>_2011</th>\n",
       "      <th>_2012</th>\n",
       "      <th>_2013</th>\n",
       "      <th>_2014</th>\n",
       "      <th>_2015</th>\n",
       "    </tr>\n",
       "  </thead>\n",
       "  <tbody>\n",
       "    <tr>\n",
       "      <th>0</th>\n",
       "      <td>AT</td>\n",
       "      <td>VA</td>\n",
       "      <td>TOT</td>\n",
       "      <td>NaN</td>\n",
       "      <td>NaN</td>\n",
       "      <td>NaN</td>\n",
       "      <td>NaN</td>\n",
       "      <td>NaN</td>\n",
       "      <td>NaN</td>\n",
       "      <td>NaN</td>\n",
       "      <td>...</td>\n",
       "      <td>237683.2</td>\n",
       "      <td>251926.6</td>\n",
       "      <td>260533.0</td>\n",
       "      <td>254762.6</td>\n",
       "      <td>262311.7</td>\n",
       "      <td>274852.3</td>\n",
       "      <td>281955.9</td>\n",
       "      <td>287194.6</td>\n",
       "      <td>294442.6</td>\n",
       "      <td>302653.1</td>\n",
       "    </tr>\n",
       "    <tr>\n",
       "      <th>1</th>\n",
       "      <td>AT</td>\n",
       "      <td>VA</td>\n",
       "      <td>MARKT</td>\n",
       "      <td>NaN</td>\n",
       "      <td>NaN</td>\n",
       "      <td>NaN</td>\n",
       "      <td>NaN</td>\n",
       "      <td>NaN</td>\n",
       "      <td>NaN</td>\n",
       "      <td>NaN</td>\n",
       "      <td>...</td>\n",
       "      <td>176040.2</td>\n",
       "      <td>188172.0</td>\n",
       "      <td>193812.2</td>\n",
       "      <td>185873.8</td>\n",
       "      <td>191270.1</td>\n",
       "      <td>201640.6</td>\n",
       "      <td>206339.3</td>\n",
       "      <td>209268.0</td>\n",
       "      <td>214198.7</td>\n",
       "      <td>219236.5</td>\n",
       "    </tr>\n",
       "    <tr>\n",
       "      <th>2</th>\n",
       "      <td>AT</td>\n",
       "      <td>VA</td>\n",
       "      <td>A</td>\n",
       "      <td>NaN</td>\n",
       "      <td>NaN</td>\n",
       "      <td>NaN</td>\n",
       "      <td>NaN</td>\n",
       "      <td>NaN</td>\n",
       "      <td>NaN</td>\n",
       "      <td>NaN</td>\n",
       "      <td>...</td>\n",
       "      <td>3494.2</td>\n",
       "      <td>4029.8</td>\n",
       "      <td>3946.8</td>\n",
       "      <td>3306.1</td>\n",
       "      <td>3761.9</td>\n",
       "      <td>4427.7</td>\n",
       "      <td>4330.3</td>\n",
       "      <td>4124.1</td>\n",
       "      <td>4033.7</td>\n",
       "      <td>3905.4</td>\n",
       "    </tr>\n",
       "    <tr>\n",
       "      <th>3</th>\n",
       "      <td>AT</td>\n",
       "      <td>VA</td>\n",
       "      <td>B</td>\n",
       "      <td>NaN</td>\n",
       "      <td>NaN</td>\n",
       "      <td>NaN</td>\n",
       "      <td>NaN</td>\n",
       "      <td>NaN</td>\n",
       "      <td>NaN</td>\n",
       "      <td>NaN</td>\n",
       "      <td>...</td>\n",
       "      <td>1058.5</td>\n",
       "      <td>986.7</td>\n",
       "      <td>1345.3</td>\n",
       "      <td>1076.4</td>\n",
       "      <td>1179.3</td>\n",
       "      <td>1502.7</td>\n",
       "      <td>1515.9</td>\n",
       "      <td>1482.8</td>\n",
       "      <td>1452.6</td>\n",
       "      <td>1182.7</td>\n",
       "    </tr>\n",
       "    <tr>\n",
       "      <th>4</th>\n",
       "      <td>AT</td>\n",
       "      <td>VA</td>\n",
       "      <td>C</td>\n",
       "      <td>NaN</td>\n",
       "      <td>NaN</td>\n",
       "      <td>NaN</td>\n",
       "      <td>NaN</td>\n",
       "      <td>NaN</td>\n",
       "      <td>NaN</td>\n",
       "      <td>NaN</td>\n",
       "      <td>...</td>\n",
       "      <td>47702.3</td>\n",
       "      <td>51524.0</td>\n",
       "      <td>51051.5</td>\n",
       "      <td>47034.5</td>\n",
       "      <td>48983.1</td>\n",
       "      <td>51580.7</td>\n",
       "      <td>53382.5</td>\n",
       "      <td>53554.3</td>\n",
       "      <td>54581.6</td>\n",
       "      <td>57220.9</td>\n",
       "    </tr>\n",
       "  </tbody>\n",
       "</table>\n",
       "<p>5 rows × 49 columns</p>\n",
       "</div>"
      ],
      "text/plain": [
       "  country var   code  _1970  _1971  _1972  _1973  _1974  _1975  _1976  ...  \\\n",
       "0      AT  VA    TOT    NaN    NaN    NaN    NaN    NaN    NaN    NaN  ...   \n",
       "1      AT  VA  MARKT    NaN    NaN    NaN    NaN    NaN    NaN    NaN  ...   \n",
       "2      AT  VA      A    NaN    NaN    NaN    NaN    NaN    NaN    NaN  ...   \n",
       "3      AT  VA      B    NaN    NaN    NaN    NaN    NaN    NaN    NaN  ...   \n",
       "4      AT  VA      C    NaN    NaN    NaN    NaN    NaN    NaN    NaN  ...   \n",
       "\n",
       "      _2006     _2007     _2008     _2009     _2010     _2011     _2012  \\\n",
       "0  237683.2  251926.6  260533.0  254762.6  262311.7  274852.3  281955.9   \n",
       "1  176040.2  188172.0  193812.2  185873.8  191270.1  201640.6  206339.3   \n",
       "2    3494.2    4029.8    3946.8    3306.1    3761.9    4427.7    4330.3   \n",
       "3    1058.5     986.7    1345.3    1076.4    1179.3    1502.7    1515.9   \n",
       "4   47702.3   51524.0   51051.5   47034.5   48983.1   51580.7   53382.5   \n",
       "\n",
       "      _2013     _2014     _2015  \n",
       "0  287194.6  294442.6  302653.1  \n",
       "1  209268.0  214198.7  219236.5  \n",
       "2    4124.1    4033.7    3905.4  \n",
       "3    1482.8    1452.6    1182.7  \n",
       "4   53554.3   54581.6   57220.9  \n",
       "\n",
       "[5 rows x 49 columns]"
      ]
     },
     "execution_count": 61,
     "metadata": {},
     "output_type": "execute_result"
    }
   ],
   "source": [
    "output_df.head()"
   ]
  },
  {
   "cell_type": "code",
   "execution_count": 212,
   "metadata": {},
   "outputs": [
    {
     "data": {
      "text/plain": [
       "array(['TOT', 'MARKT', 'A', 'B', 'C', '10-12', '13-15', '16-18', '19',\n",
       "       '20-21', '22-23', '24-25', '26-27', '28', '29-30', '31-33', 'D-E',\n",
       "       'F', 'G', '45', '46', '47', 'H', '49-52', '53', 'I', 'J', '58-60',\n",
       "       '61', '62-63', 'K', 'L', 'M-N', 'O-U', 'O', 'P', 'Q', 'R-S', 'R',\n",
       "       'S', 'T', 'U'], dtype=object)"
      ]
     },
     "execution_count": 212,
     "metadata": {},
     "output_type": "execute_result"
    }
   ],
   "source": [
    "output_df['code'].unique()"
   ]
  },
  {
   "cell_type": "code",
   "execution_count": 62,
   "metadata": {},
   "outputs": [
    {
     "data": {
      "text/html": [
       "<div>\n",
       "<style scoped>\n",
       "    .dataframe tbody tr th:only-of-type {\n",
       "        vertical-align: middle;\n",
       "    }\n",
       "\n",
       "    .dataframe tbody tr th {\n",
       "        vertical-align: top;\n",
       "    }\n",
       "\n",
       "    .dataframe thead th {\n",
       "        text-align: right;\n",
       "    }\n",
       "</style>\n",
       "<table border=\"1\" class=\"dataframe\">\n",
       "  <thead>\n",
       "    <tr style=\"text-align: right;\">\n",
       "      <th></th>\n",
       "      <th>country</th>\n",
       "      <th>var</th>\n",
       "      <th>code</th>\n",
       "      <th>_1970</th>\n",
       "      <th>_1971</th>\n",
       "      <th>_1972</th>\n",
       "      <th>_1973</th>\n",
       "      <th>_1974</th>\n",
       "      <th>_1975</th>\n",
       "      <th>_1976</th>\n",
       "      <th>...</th>\n",
       "      <th>_2006</th>\n",
       "      <th>_2007</th>\n",
       "      <th>_2008</th>\n",
       "      <th>_2009</th>\n",
       "      <th>_2010</th>\n",
       "      <th>_2011</th>\n",
       "      <th>_2012</th>\n",
       "      <th>_2013</th>\n",
       "      <th>_2014</th>\n",
       "      <th>_2015</th>\n",
       "    </tr>\n",
       "  </thead>\n",
       "  <tbody>\n",
       "    <tr>\n",
       "      <th>0</th>\n",
       "      <td>AT</td>\n",
       "      <td>I_IT</td>\n",
       "      <td>TOT</td>\n",
       "      <td>NaN</td>\n",
       "      <td>NaN</td>\n",
       "      <td>NaN</td>\n",
       "      <td>NaN</td>\n",
       "      <td>NaN</td>\n",
       "      <td>NaN</td>\n",
       "      <td>NaN</td>\n",
       "      <td>...</td>\n",
       "      <td>1167.5</td>\n",
       "      <td>1115.6</td>\n",
       "      <td>931.0</td>\n",
       "      <td>1083.5</td>\n",
       "      <td>1329.9</td>\n",
       "      <td>1177</td>\n",
       "      <td>1246</td>\n",
       "      <td>1319.5</td>\n",
       "      <td>1292.7</td>\n",
       "      <td>1401.3</td>\n",
       "    </tr>\n",
       "    <tr>\n",
       "      <th>1</th>\n",
       "      <td>AT</td>\n",
       "      <td>I_IT</td>\n",
       "      <td>MARKT</td>\n",
       "      <td>NaN</td>\n",
       "      <td>NaN</td>\n",
       "      <td>NaN</td>\n",
       "      <td>NaN</td>\n",
       "      <td>NaN</td>\n",
       "      <td>NaN</td>\n",
       "      <td>NaN</td>\n",
       "      <td>...</td>\n",
       "      <td>967.8</td>\n",
       "      <td>901.0</td>\n",
       "      <td>725.2</td>\n",
       "      <td>892.1</td>\n",
       "      <td>1073.7</td>\n",
       "      <td>967.3</td>\n",
       "      <td>1043.5</td>\n",
       "      <td>1111.3</td>\n",
       "      <td>1071</td>\n",
       "      <td>1169</td>\n",
       "    </tr>\n",
       "    <tr>\n",
       "      <th>2</th>\n",
       "      <td>AT</td>\n",
       "      <td>I_IT</td>\n",
       "      <td>A</td>\n",
       "      <td>NaN</td>\n",
       "      <td>NaN</td>\n",
       "      <td>NaN</td>\n",
       "      <td>NaN</td>\n",
       "      <td>NaN</td>\n",
       "      <td>NaN</td>\n",
       "      <td>NaN</td>\n",
       "      <td>...</td>\n",
       "      <td>10.1</td>\n",
       "      <td>10.6</td>\n",
       "      <td>12.4</td>\n",
       "      <td>12.3</td>\n",
       "      <td>12.6</td>\n",
       "      <td>15</td>\n",
       "      <td>16.7</td>\n",
       "      <td>16.7</td>\n",
       "      <td>14.8</td>\n",
       "      <td>14.6</td>\n",
       "    </tr>\n",
       "    <tr>\n",
       "      <th>3</th>\n",
       "      <td>AT</td>\n",
       "      <td>I_IT</td>\n",
       "      <td>B</td>\n",
       "      <td>NaN</td>\n",
       "      <td>NaN</td>\n",
       "      <td>NaN</td>\n",
       "      <td>NaN</td>\n",
       "      <td>NaN</td>\n",
       "      <td>NaN</td>\n",
       "      <td>NaN</td>\n",
       "      <td>...</td>\n",
       "      <td>1.3</td>\n",
       "      <td>1.6</td>\n",
       "      <td>0.8</td>\n",
       "      <td>0.8</td>\n",
       "      <td>0.8</td>\n",
       "      <td>1.5</td>\n",
       "      <td>1</td>\n",
       "      <td>1</td>\n",
       "      <td>0.9</td>\n",
       "      <td>1</td>\n",
       "    </tr>\n",
       "    <tr>\n",
       "      <th>4</th>\n",
       "      <td>AT</td>\n",
       "      <td>I_IT</td>\n",
       "      <td>C</td>\n",
       "      <td>NaN</td>\n",
       "      <td>NaN</td>\n",
       "      <td>NaN</td>\n",
       "      <td>NaN</td>\n",
       "      <td>NaN</td>\n",
       "      <td>NaN</td>\n",
       "      <td>NaN</td>\n",
       "      <td>...</td>\n",
       "      <td>221.8</td>\n",
       "      <td>205.2</td>\n",
       "      <td>125.8</td>\n",
       "      <td>138.6</td>\n",
       "      <td>199.9</td>\n",
       "      <td>157.3</td>\n",
       "      <td>170</td>\n",
       "      <td>188.1</td>\n",
       "      <td>152.3</td>\n",
       "      <td>172.7</td>\n",
       "    </tr>\n",
       "  </tbody>\n",
       "</table>\n",
       "<p>5 rows × 49 columns</p>\n",
       "</div>"
      ],
      "text/plain": [
       "  country   var   code  _1970  _1971  _1972  _1973  _1974  _1975  _1976  ...  \\\n",
       "0      AT  I_IT    TOT    NaN    NaN    NaN    NaN    NaN    NaN    NaN  ...   \n",
       "1      AT  I_IT  MARKT    NaN    NaN    NaN    NaN    NaN    NaN    NaN  ...   \n",
       "2      AT  I_IT      A    NaN    NaN    NaN    NaN    NaN    NaN    NaN  ...   \n",
       "3      AT  I_IT      B    NaN    NaN    NaN    NaN    NaN    NaN    NaN  ...   \n",
       "4      AT  I_IT      C    NaN    NaN    NaN    NaN    NaN    NaN    NaN  ...   \n",
       "\n",
       "    _2006   _2007  _2008   _2009   _2010  _2011   _2012   _2013   _2014  \\\n",
       "0  1167.5  1115.6  931.0  1083.5  1329.9   1177    1246  1319.5  1292.7   \n",
       "1   967.8   901.0  725.2   892.1  1073.7  967.3  1043.5  1111.3    1071   \n",
       "2    10.1    10.6   12.4    12.3    12.6     15    16.7    16.7    14.8   \n",
       "3     1.3     1.6    0.8     0.8     0.8    1.5       1       1     0.9   \n",
       "4   221.8   205.2  125.8   138.6   199.9  157.3     170   188.1   152.3   \n",
       "\n",
       "    _2015  \n",
       "0  1401.3  \n",
       "1    1169  \n",
       "2    14.6  \n",
       "3       1  \n",
       "4   172.7  \n",
       "\n",
       "[5 rows x 49 columns]"
      ]
     },
     "execution_count": 62,
     "metadata": {},
     "output_type": "execute_result"
    }
   ],
   "source": [
    "capital_df.head()"
   ]
  },
  {
   "cell_type": "code",
   "execution_count": 227,
   "metadata": {},
   "outputs": [],
   "source": [
    "# Select AT rows\n",
    "# Select TOT (total economy rows)\n",
    "# Select GO, CAP, EMP, II rows\n",
    "country = \"AT\"\n",
    "code = \"P\"\n",
    "var_names = ['GO', 'CAP', 'EMP', 'II']\n",
    "# var_names = ['VA', 'GO', 'II', 'COMP', 'EMP', 'EMPE', 'H_EMP', 'H_EMPE', 'VA_P',\n",
    "#        'GO_P', 'II_P', 'VA_QI', 'GO_QI', 'II_QI', 'LP_I', 'LAB', 'CAP',\n",
    "#        'LAB_QI', 'CAP_QI', 'CAPIT_QI', 'CAPNIT_QI', 'VA_Q', 'VAConH',\n",
    "#        'VAConLC', 'VAConKIT', 'VAConKNIT', 'VAConTFP', 'TFPva_I', 'LP1_Q',\n",
    "#        'LP1ConLC', 'LP1ConKIT', 'LP1ConKNIT', 'LP1ConTFP', 'TFPlp1_I',\n",
    "#        'LP2_Q', 'LP2ConLC', 'LP2ConKIT', 'LP2ConKNIT', 'LP2ConTFP',\n",
    "#        'TFPlp2_I']\n",
    "y_var = 'GO'\n",
    "out_df = output_df.loc[(output_df['country'] == country) & \n",
    "                       (output_df['code']== code) & \n",
    "                       (output_df['var'].isin(var_names))]\n",
    "# Remove all NaN columns\n",
    "out_df = out_df.dropna(axis = 1, how = \"any\")\n",
    "\n",
    "# Drop the country and code rows\n",
    "out_df = out_df.drop([\"country\", \"code\"], axis = 1)\n",
    "\n",
    "# Transpose the data frame\n",
    "out_df = out_df.T\n",
    "\n",
    "# Rename the colums with the var names\n",
    "out_df = out_df.rename(columns=out_df.iloc[0]).drop(out_df.index[0])\n",
    "\n",
    "# Convert to numeric\n",
    "out_df = out_df.astype('float')\n",
    "\n",
    "# Add a new column that indexes the years\n",
    "out_df['YearIndex'] = np.arange(len(out_df))"
   ]
  },
  {
   "cell_type": "code",
   "execution_count": 228,
   "metadata": {},
   "outputs": [
    {
     "data": {
      "image/png": "[encoded data removed]",
      "text/plain": [
       "<Figure size 288x288 with 1 Axes>"
      ]
     },
     "metadata": {
      "needs_background": "light"
     },
     "output_type": "display_data"
    }
   ],
   "source": [
    "plt.matshow(out_df.corr())\n",
    "plt.show()"
   ]
  },
  {
   "cell_type": "code",
   "execution_count": 229,
   "metadata": {},
   "outputs": [
    {
     "data": {
      "text/plain": [
       "GO           0.994202\n",
       "II           0.980773\n",
       "EMP          0.982347\n",
       "CAP          0.973144\n",
       "YearIndex    1.000000\n",
       "Name: YearIndex, dtype: float64"
      ]
     },
     "execution_count": 229,
     "metadata": {},
     "output_type": "execute_result"
    }
   ],
   "source": [
    "out_df.corr()['YearIndex']"
   ]
  },
  {
   "cell_type": "code",
   "execution_count": 230,
   "metadata": {},
   "outputs": [
    {
     "data": {
      "image/png": "[encoded data removed]",
      "text/plain": [
       "<Figure size 432x288 with 2 Axes>"
      ]
     },
     "metadata": {
      "needs_background": "light"
     },
     "output_type": "display_data"
    }
   ],
   "source": [
    "ax1 = out_df.plot.scatter(x='CAP', y='GO', c='II', colormap='viridis')"
   ]
  },
  {
   "cell_type": "code",
   "execution_count": 231,
   "metadata": {},
   "outputs": [
    {
     "data": {
      "image/png": "[encoded data removed]",
      "text/plain": [
       "<Figure size 432x288 with 2 Axes>"
      ]
     },
     "metadata": {
      "needs_background": "light"
     },
     "output_type": "display_data"
    }
   ],
   "source": [
    "ax2 = out_df.plot.scatter(x='EMP', y='GO', c='II', colormap='viridis')"
   ]
  },
  {
   "cell_type": "code",
   "execution_count": 232,
   "metadata": {},
   "outputs": [
    {
     "data": {
      "image/png": "[encoded data removed]",
      "text/plain": [
       "<Figure size 432x288 with 2 Axes>"
      ]
     },
     "metadata": {
      "needs_background": "light"
     },
     "output_type": "display_data"
    }
   ],
   "source": [
    "ax3 = out_df.plot.scatter(x='II', y='GO', c='CAP', colormap='viridis')"
   ]
  },
  {
   "cell_type": "code",
   "execution_count": 233,
   "metadata": {},
   "outputs": [
    {
     "data": {
      "image/png": "[encoded data removed]",
      "text/plain": [
       "<Figure size 432x288 with 2 Axes>"
      ]
     },
     "metadata": {
      "needs_background": "light"
     },
     "output_type": "display_data"
    }
   ],
   "source": [
    "ax4 = out_df.plot.scatter(x='II', y='CAP', c='EMP', colormap='viridis')"
   ]
  },
  {
   "cell_type": "code",
   "execution_count": 220,
   "metadata": {},
   "outputs": [
    {
     "data": {
      "image/png": "[encoded data removed]",
      "text/plain": [
       "<Figure size 432x288 with 1 Axes>"
      ]
     },
     "metadata": {
      "needs_background": "light"
     },
     "output_type": "display_data"
    }
   ],
   "source": [
    "threedee = plt.figure().gca(projection='3d')\n",
    "threedee.scatter(range(len(out_df.index)), out_df[\"GO\"], out_df['CAP'])\n",
    "threedee.set_xlabel('Index')\n",
    "threedee.set_ylabel('GO')\n",
    "threedee.set_zlabel('CAP')\n",
    "plt.show()"
   ]
  },
  {
   "cell_type": "code",
   "execution_count": 234,
   "metadata": {},
   "outputs": [
    {
     "data": {
      "text/plain": [
       "0.9990108836187285"
      ]
     },
     "execution_count": 234,
     "metadata": {},
     "output_type": "execute_result"
    }
   ],
   "source": [
    "ols = linear_model.LinearRegression(normalize=True)\n",
    "X = out_df.drop(y_var, axis = 1)\n",
    "Y = out_df[y_var]\n",
    "ols.fit(X, Y)\n",
    "ols.score(X,Y)"
   ]
  },
  {
   "cell_type": "code",
   "execution_count": 235,
   "metadata": {},
   "outputs": [
    {
     "data": {
      "text/plain": [
       "0.9884373058338447"
      ]
     },
     "execution_count": 235,
     "metadata": {},
     "output_type": "execute_result"
    }
   ],
   "source": [
    "stupid_ols = linear_model.LinearRegression(normalize=True)\n",
    "X = out_df[['YearIndex']]\n",
    "stupid_ols.fit(X, Y)\n",
    "stupid_ols.score(X, Y)"
   ]
  },
  {
   "cell_type": "code",
   "execution_count": 223,
   "metadata": {},
   "outputs": [],
   "source": [
    "a = range(4)"
   ]
  },
  {
   "cell_type": "code",
   "execution_count": 224,
   "metadata": {},
   "outputs": [
    {
     "data": {
      "text/plain": [
       "4"
      ]
     },
     "execution_count": 224,
     "metadata": {},
     "output_type": "execute_result"
    }
   ],
   "source": [
    "len(a)"
   ]
  },
  {
   "cell_type": "code",
   "execution_count": 225,
   "metadata": {},
   "outputs": [],
   "source": [
    "a= list(range(len(X)))"
   ]
  },
  {
   "cell_type": "code",
   "execution_count": 236,
   "metadata": {},
   "outputs": [
    {
     "data": {
      "text/plain": [
       "21"
      ]
     },
     "execution_count": 236,
     "metadata": {},
     "output_type": "execute_result"
    }
   ],
   "source": [
    "len(Y)"
   ]
  },
  {
   "cell_type": "code",
   "execution_count": 241,
   "metadata": {},
   "outputs": [],
   "source": [
    "def getRegressionScore(df, country, sector, y_var = 'GO', x_var=['GO', 'CAP', 'EMP', 'II']):\n",
    "    out_df = df.loc[(output_df['country'] == country) & \n",
    "                    (output_df['code']== sector) & \n",
    "                    (output_df['var'].isin(x_var))]\n",
    "\n",
    "    # Remove all NaN columns\n",
    "    out_df = out_df.dropna(axis = 1, how = \"any\")\n",
    "\n",
    "    # Drop the country and code rows\n",
    "    out_df = out_df.drop([\"country\", \"code\"], axis = 1)\n",
    "\n",
    "    # Transpose the data frame\n",
    "    out_df = out_df.T\n",
    "\n",
    "    # Rename the colums with the var names\n",
    "    out_df = out_df.rename(columns=out_df.iloc[0]).drop(out_df.index[0])\n",
    "\n",
    "    # Convert to numeric\n",
    "    out_df = out_df.astype('float')\n",
    "\n",
    "    # Add a new column that indexes the years\n",
    "    out_df['YearIndex'] = np.arange(len(out_df))\n",
    "    \n",
    "    # Run linear regression on the features and record the score\n",
    "    ols = linear_model.LinearRegression(normalize=True)\n",
    "    X = out_df.drop(y_var, axis = 1)\n",
    "    Y = out_df[y_var]\n",
    "    ols.fit(X, Y)\n",
    "    score = ols.score(X,Y)\n",
    "    \n",
    "    # Run linear regression where the only explanatory variable is the time index\n",
    "    stupid_ols = linear_model.LinearRegression(normalize=True)\n",
    "    X = out_df[['YearIndex']]\n",
    "    stupid_ols.fit(X, Y)\n",
    "    stupid_score = stupid_ols.score(X, Y)\n",
    "    \n",
    "    return(score, stupid_score, len(Y))\n"
   ]
  },
  {
   "cell_type": "code",
   "execution_count": 247,
   "metadata": {},
   "outputs": [],
   "source": [
    "countries = output_df['country'].unique()\n",
    "sectors = output_df['code'].unique()"
   ]
  },
  {
   "cell_type": "code",
   "execution_count": null,
   "metadata": {},
   "outputs": [],
   "source": []
  }
 ],
 "metadata": {
  "kernelspec": {
   "display_name": "Python 3",
   "language": "python",
   "name": "python3"
  },
  "language_info": {
   "codemirror_mode": {
    "name": "ipython",
    "version": 3
   },
   "file_extension": ".py",
   "mimetype": "text/x-python",
   "name": "python",
   "nbconvert_exporter": "python",
   "pygments_lexer": "ipython3",
   "version": "3.7.3"
  }
 },
 "nbformat": 4,
 "nbformat_minor": 2
}
