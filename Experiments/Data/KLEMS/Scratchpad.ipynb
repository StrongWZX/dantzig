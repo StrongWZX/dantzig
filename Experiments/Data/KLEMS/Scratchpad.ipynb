{
 "cells": [
  {
   "cell_type": "code",
   "execution_count": 35,
   "metadata": {},
   "outputs": [],
   "source": [
    "import pandas as pd\n",
    "import numpy as np\n",
    "import matplotlib.pyplot as plt\n",
    "from mpl_toolkits.mplot3d import Axes3D\n",
    "from sklearn import linear_model"
   ]
  },
  {
   "cell_type": "code",
   "execution_count": 36,
   "metadata": {},
   "outputs": [],
   "source": [
    "output_file = \"all_output.csv\"\n",
    "capital_file = \"all_capital.csv\""
   ]
  },
  {
   "cell_type": "code",
   "execution_count": 37,
   "metadata": {},
   "outputs": [],
   "source": [
    "output_df = pd.read_csv(output_file)\n",
    "capital_df = pd.read_csv(capital_file)"
   ]
  },
  {
   "cell_type": "code",
   "execution_count": 38,
   "metadata": {},
   "outputs": [
    {
     "data": {
      "text/html": [
       "<div>\n",
       "<style scoped>\n",
       "    .dataframe tbody tr th:only-of-type {\n",
       "        vertical-align: middle;\n",
       "    }\n",
       "\n",
       "    .dataframe tbody tr th {\n",
       "        vertical-align: top;\n",
       "    }\n",
       "\n",
       "    .dataframe thead th {\n",
       "        text-align: right;\n",
       "    }\n",
       "</style>\n",
       "<table border=\"1\" class=\"dataframe\">\n",
       "  <thead>\n",
       "    <tr style=\"text-align: right;\">\n",
       "      <th></th>\n",
       "      <th>country</th>\n",
       "      <th>var</th>\n",
       "      <th>code</th>\n",
       "      <th>_1970</th>\n",
       "      <th>_1971</th>\n",
       "      <th>_1972</th>\n",
       "      <th>_1973</th>\n",
       "      <th>_1974</th>\n",
       "      <th>_1975</th>\n",
       "      <th>_1976</th>\n",
       "      <th>...</th>\n",
       "      <th>_2006</th>\n",
       "      <th>_2007</th>\n",
       "      <th>_2008</th>\n",
       "      <th>_2009</th>\n",
       "      <th>_2010</th>\n",
       "      <th>_2011</th>\n",
       "      <th>_2012</th>\n",
       "      <th>_2013</th>\n",
       "      <th>_2014</th>\n",
       "      <th>_2015</th>\n",
       "    </tr>\n",
       "  </thead>\n",
       "  <tbody>\n",
       "    <tr>\n",
       "      <th>0</th>\n",
       "      <td>AT</td>\n",
       "      <td>VA</td>\n",
       "      <td>TOT</td>\n",
       "      <td>NaN</td>\n",
       "      <td>NaN</td>\n",
       "      <td>NaN</td>\n",
       "      <td>NaN</td>\n",
       "      <td>NaN</td>\n",
       "      <td>NaN</td>\n",
       "      <td>NaN</td>\n",
       "      <td>...</td>\n",
       "      <td>237683.2</td>\n",
       "      <td>251926.6</td>\n",
       "      <td>260533.0</td>\n",
       "      <td>254762.6</td>\n",
       "      <td>262311.7</td>\n",
       "      <td>274852.3</td>\n",
       "      <td>281955.9</td>\n",
       "      <td>287194.6</td>\n",
       "      <td>294442.6</td>\n",
       "      <td>302653.1</td>\n",
       "    </tr>\n",
       "    <tr>\n",
       "      <th>1</th>\n",
       "      <td>AT</td>\n",
       "      <td>VA</td>\n",
       "      <td>MARKT</td>\n",
       "      <td>NaN</td>\n",
       "      <td>NaN</td>\n",
       "      <td>NaN</td>\n",
       "      <td>NaN</td>\n",
       "      <td>NaN</td>\n",
       "      <td>NaN</td>\n",
       "      <td>NaN</td>\n",
       "      <td>...</td>\n",
       "      <td>176040.2</td>\n",
       "      <td>188172.0</td>\n",
       "      <td>193812.2</td>\n",
       "      <td>185873.8</td>\n",
       "      <td>191270.1</td>\n",
       "      <td>201640.6</td>\n",
       "      <td>206339.3</td>\n",
       "      <td>209268.0</td>\n",
       "      <td>214198.7</td>\n",
       "      <td>219236.5</td>\n",
       "    </tr>\n",
       "    <tr>\n",
       "      <th>2</th>\n",
       "      <td>AT</td>\n",
       "      <td>VA</td>\n",
       "      <td>A</td>\n",
       "      <td>NaN</td>\n",
       "      <td>NaN</td>\n",
       "      <td>NaN</td>\n",
       "      <td>NaN</td>\n",
       "      <td>NaN</td>\n",
       "      <td>NaN</td>\n",
       "      <td>NaN</td>\n",
       "      <td>...</td>\n",
       "      <td>3494.2</td>\n",
       "      <td>4029.8</td>\n",
       "      <td>3946.8</td>\n",
       "      <td>3306.1</td>\n",
       "      <td>3761.9</td>\n",
       "      <td>4427.7</td>\n",
       "      <td>4330.3</td>\n",
       "      <td>4124.1</td>\n",
       "      <td>4033.7</td>\n",
       "      <td>3905.4</td>\n",
       "    </tr>\n",
       "    <tr>\n",
       "      <th>3</th>\n",
       "      <td>AT</td>\n",
       "      <td>VA</td>\n",
       "      <td>B</td>\n",
       "      <td>NaN</td>\n",
       "      <td>NaN</td>\n",
       "      <td>NaN</td>\n",
       "      <td>NaN</td>\n",
       "      <td>NaN</td>\n",
       "      <td>NaN</td>\n",
       "      <td>NaN</td>\n",
       "      <td>...</td>\n",
       "      <td>1058.5</td>\n",
       "      <td>986.7</td>\n",
       "      <td>1345.3</td>\n",
       "      <td>1076.4</td>\n",
       "      <td>1179.3</td>\n",
       "      <td>1502.7</td>\n",
       "      <td>1515.9</td>\n",
       "      <td>1482.8</td>\n",
       "      <td>1452.6</td>\n",
       "      <td>1182.7</td>\n",
       "    </tr>\n",
       "    <tr>\n",
       "      <th>4</th>\n",
       "      <td>AT</td>\n",
       "      <td>VA</td>\n",
       "      <td>C</td>\n",
       "      <td>NaN</td>\n",
       "      <td>NaN</td>\n",
       "      <td>NaN</td>\n",
       "      <td>NaN</td>\n",
       "      <td>NaN</td>\n",
       "      <td>NaN</td>\n",
       "      <td>NaN</td>\n",
       "      <td>...</td>\n",
       "      <td>47702.3</td>\n",
       "      <td>51524.0</td>\n",
       "      <td>51051.5</td>\n",
       "      <td>47034.5</td>\n",
       "      <td>48983.1</td>\n",
       "      <td>51580.7</td>\n",
       "      <td>53382.5</td>\n",
       "      <td>53554.3</td>\n",
       "      <td>54581.6</td>\n",
       "      <td>57220.9</td>\n",
       "    </tr>\n",
       "  </tbody>\n",
       "</table>\n",
       "<p>5 rows × 49 columns</p>\n",
       "</div>"
      ],
      "text/plain": [
       "  country var   code  _1970  _1971  _1972  _1973  _1974  _1975  _1976  ...  \\\n",
       "0      AT  VA    TOT    NaN    NaN    NaN    NaN    NaN    NaN    NaN  ...   \n",
       "1      AT  VA  MARKT    NaN    NaN    NaN    NaN    NaN    NaN    NaN  ...   \n",
       "2      AT  VA      A    NaN    NaN    NaN    NaN    NaN    NaN    NaN  ...   \n",
       "3      AT  VA      B    NaN    NaN    NaN    NaN    NaN    NaN    NaN  ...   \n",
       "4      AT  VA      C    NaN    NaN    NaN    NaN    NaN    NaN    NaN  ...   \n",
       "\n",
       "      _2006     _2007     _2008     _2009     _2010     _2011     _2012  \\\n",
       "0  237683.2  251926.6  260533.0  254762.6  262311.7  274852.3  281955.9   \n",
       "1  176040.2  188172.0  193812.2  185873.8  191270.1  201640.6  206339.3   \n",
       "2    3494.2    4029.8    3946.8    3306.1    3761.9    4427.7    4330.3   \n",
       "3    1058.5     986.7    1345.3    1076.4    1179.3    1502.7    1515.9   \n",
       "4   47702.3   51524.0   51051.5   47034.5   48983.1   51580.7   53382.5   \n",
       "\n",
       "      _2013     _2014     _2015  \n",
       "0  287194.6  294442.6  302653.1  \n",
       "1  209268.0  214198.7  219236.5  \n",
       "2    4124.1    4033.7    3905.4  \n",
       "3    1482.8    1452.6    1182.7  \n",
       "4   53554.3   54581.6   57220.9  \n",
       "\n",
       "[5 rows x 49 columns]"
      ]
     },
     "execution_count": 38,
     "metadata": {},
     "output_type": "execute_result"
    }
   ],
   "source": [
    "output_df.head()"
   ]
  },
  {
   "cell_type": "code",
   "execution_count": 260,
   "metadata": {},
   "outputs": [],
   "source": [
    "# Select AT rows\n",
    "# Select TOT (total economy rows)\n",
    "# Select GO, CAP, EMP, II rows\n",
    "country = \"US\"\n",
    "code = \"A\"\n",
    "var_names = ['GO_QI', 'GO_P', 'GO', 'CAP_QI', 'CAP', 'H_EMP', 'H_EMPE', 'II_QI']\n",
    "# var_names = ['VA', 'GO', 'II', 'COMP', 'EMP', 'EMPE', 'H_EMP', 'H_EMPE', 'VA_P',\n",
    "#        'GO_P', 'II_P', 'VA_QI', 'GO_QI', 'II_QI', 'LP_I', 'LAB', 'CAP',\n",
    "#        'LAB_QI', 'CAP_QI', 'CAPIT_QI', 'CAPNIT_QI', 'VA_Q', 'VAConH',\n",
    "#        'VAConLC', 'VAConKIT', 'VAConKNIT', 'VAConTFP', 'TFPva_I', 'LP1_Q',\n",
    "#        'LP1ConLC', 'LP1ConKIT', 'LP1ConKNIT', 'LP1ConTFP', 'TFPlp1_I',\n",
    "#        'LP2_Q', 'LP2ConLC', 'LP2ConKIT', 'LP2ConKNIT', 'LP2ConTFP',\n",
    "#        'TFPlp2_I']\n",
    "y_var = 'GO_QI'\n",
    "out_df = output_df.loc[(output_df['country'] == country) & \n",
    "                       (output_df['code']== code) & \n",
    "                       (output_df['var'].isin(var_names))]\n",
    "# Remove all NaN columns\n",
    "out_df = out_df.dropna(axis = 1, how = \"any\")\n",
    "\n",
    "# Drop the country and code rows\n",
    "out_df = out_df.drop([\"country\", \"code\"], axis = 1)\n",
    "\n",
    "# Transpose the data frame\n",
    "out_df = out_df.T\n",
    "\n",
    "# Rename the colums with the var names\n",
    "out_df = out_df.rename(columns=out_df.iloc[0]).drop(out_df.index[0])\n",
    "\n",
    "# Convert to numeric\n",
    "out_df = out_df.astype('float')\n",
    "\n",
    "# Add a new column that indexes the years\n",
    "out_df['YearIndex'] = np.arange(len(out_df))"
   ]
  },
  {
   "cell_type": "code",
   "execution_count": 261,
   "metadata": {},
   "outputs": [
    {
     "data": {
      "image/png": "[encoded data removed]",
      "text/plain": [
       "<Figure size 288x288 with 1 Axes>"
      ]
     },
     "metadata": {
      "needs_background": "light"
     },
     "output_type": "display_data"
    }
   ],
   "source": [
    "plt.matshow(out_df.corr())\n",
    "plt.show()"
   ]
  },
  {
   "cell_type": "code",
   "execution_count": 264,
   "metadata": {},
   "outputs": [
    {
     "data": {
      "text/plain": [
       "GO           0.956295\n",
       "H_EMP       -0.841205\n",
       "H_EMPE       0.310425\n",
       "GO_P         0.929351\n",
       "GO_QI        0.855396\n",
       "II_QI       -0.676750\n",
       "CAP          0.850448\n",
       "CAP_QI       0.934382\n",
       "YearIndex    1.000000\n",
       "Name: YearIndex, dtype: float64"
      ]
     },
     "execution_count": 264,
     "metadata": {},
     "output_type": "execute_result"
    }
   ],
   "source": [
    "out_df.corr()['YearIndex']"
   ]
  },
  {
   "cell_type": "code",
   "execution_count": 267,
   "metadata": {},
   "outputs": [
    {
     "data": {
      "image/png": "[encoded data removed]",
      "text/plain": [
       "<Figure size 432x288 with 2 Axes>"
      ]
     },
     "metadata": {
      "needs_background": "light"
     },
     "output_type": "display_data"
    }
   ],
   "source": [
    "ax1 = out_df.plot.scatter(x='H_EMP', y='H_EMPE', c='GO_QI', colormap='viridis')"
   ]
  },
  {
   "cell_type": "code",
   "execution_count": 268,
   "metadata": {},
   "outputs": [
    {
     "data": {
      "image/png": "[encoded data removed]",
      "text/plain": [
       "<Figure size 432x288 with 2 Axes>"
      ]
     },
     "metadata": {
      "needs_background": "light"
     },
     "output_type": "display_data"
    }
   ],
   "source": [
    "ax2 = out_df.plot.scatter(x='H_EMP', y='II_QI', c='GO_QI', colormap='viridis')"
   ]
  },
  {
   "cell_type": "code",
   "execution_count": 269,
   "metadata": {},
   "outputs": [
    {
     "data": {
      "image/png": "[encoded data removed]",
      "text/plain": [
       "<Figure size 432x288 with 2 Axes>"
      ]
     },
     "metadata": {
      "needs_background": "light"
     },
     "output_type": "display_data"
    }
   ],
   "source": [
    "ax3 = out_df.plot.scatter(x='II_QI', y='CAP_QI', c='GO_QI', colormap='viridis')"
   ]
  },
  {
   "cell_type": "code",
   "execution_count": 247,
   "metadata": {},
   "outputs": [
    {
     "data": {
      "image/png": "[encoded data removed]",
      "text/plain": [
       "<Figure size 432x288 with 2 Axes>"
      ]
     },
     "metadata": {
      "needs_background": "light"
     },
     "output_type": "display_data"
    }
   ],
   "source": [
    "ax4 = out_df.plot.scatter(x='II_QI', y='CAP_QI', c='H_EMP', colormap='viridis')"
   ]
  },
  {
   "cell_type": "code",
   "execution_count": 270,
   "metadata": {},
   "outputs": [
    {
     "data": {
      "text/plain": [
       "3000"
      ]
     },
     "execution_count": 270,
     "metadata": {},
     "output_type": "execute_result"
    }
   ],
   "source": [
    "150*20"
   ]
  },
  {
   "cell_type": "code",
   "execution_count": 249,
   "metadata": {},
   "outputs": [
    {
     "data": {
      "image/png": "[encoded data removed]",
      "text/plain": [
       "<Figure size 432x288 with 1 Axes>"
      ]
     },
     "metadata": {
      "needs_background": "light"
     },
     "output_type": "display_data"
    }
   ],
   "source": [
    "threedee = plt.figure().gca(projection='3d')\n",
    "threedee.scatter(out_df[\"H_EMP\"], out_df[\"II_QI\"], out_df['GO_QI'])\n",
    "threedee.set_xlabel('H_EMP')\n",
    "threedee.set_ylabel('II_QI')\n",
    "threedee.set_zlabel('GO_QI')\n",
    "plt.show()"
   ]
  },
  {
   "cell_type": "code",
   "execution_count": 250,
   "metadata": {},
   "outputs": [],
   "source": [
    "def getRegressionScore(df, country, sector, y_var = 'GO_QI', x_var=['GO_QI', 'CAP_QI', 'LAB_QI', 'II_QI']):\n",
    "    out_df = df.loc[(output_df['country'] == country) & \n",
    "                    (output_df['code']== sector) & \n",
    "                    (output_df['var'].isin(x_var))]\n",
    "    \n",
    "    print(country, sector)\n",
    "\n",
    "    # Remove all NaN columns\n",
    "    out_df = out_df.dropna(axis = 1, how = \"any\")\n",
    "\n",
    "    # Drop the country and code rows\n",
    "    out_df = out_df.drop([\"country\", \"code\"], axis = 1)\n",
    "\n",
    "    # Transpose the data frame\n",
    "    out_df = out_df.T\n",
    "\n",
    "    # If less than 2 observations then halt the experiment\n",
    "    if (len(out_df) < 2):\n",
    "        return(np.nan, np.nan, len(out_df))\n",
    "    # Rename the colums with the var names\n",
    "    out_df = out_df.rename(columns=out_df.iloc[0]).drop(out_df.index[0])\n",
    "\n",
    "    # Convert to numeric\n",
    "    out_df = out_df.astype('float')\n",
    "\n",
    "    # Add a new column that indexes the years\n",
    "    out_df['YearIndex'] = np.arange(len(out_df))\n",
    "    \n",
    "    # Check if the Y variable has been dropped in the NA cleaning phase\n",
    "    if y_var not in out_df.columns:\n",
    "        return(np.nan, np.nan, len(out_df))\n",
    "    \n",
    "    # Check if any explanatory variable has been dropped in the NA cleaning phase\n",
    "    if not (set(x_var) <= set(out_df.columns)):\n",
    "        return(np.nan, np.nan, len(out_df))\n",
    "    \n",
    "    # Run linear regression on the features and record the score\n",
    "    ols = linear_model.LinearRegression(normalize=True)\n",
    "    X = out_df[x_var].drop(y_var, axis = 1)\n",
    "    Y = out_df[y_var]\n",
    "    ols.fit(X, Y)\n",
    "    score = ols.score(X,Y)\n",
    "    \n",
    "    # Run linear regression where the only explanatory variable is the time index\n",
    "    stupid_ols = linear_model.LinearRegression(normalize=True)\n",
    "    X = out_df[['YearIndex']]\n",
    "    stupid_ols.fit(X, Y)\n",
    "    stupid_score = stupid_ols.score(X, Y)\n",
    "    \n",
    "    \n",
    "    return(score, stupid_score, len(Y))\n"
   ]
  },
  {
   "cell_type": "code",
   "execution_count": 251,
   "metadata": {},
   "outputs": [],
   "source": [
    "countries = output_df['country'].unique()\n",
    "sectors = output_df['code'].unique()\n",
    "\n",
    "countries = ['AT', 'BE', 'DE', 'DK', 'ES', 'FI', 'FR','IT','NL', 'UK', 'US']\n",
    "sectors = ['16-18', '19', '20-21', '22-23', '28', '53', '10-12', '13-15', '24-25', '26-27', '29-30', 'C', \n",
    "           '49-52','A', 'B','D-E', 'F', 'R-S']"
   ]
  },
  {
   "cell_type": "code",
   "execution_count": 252,
   "metadata": {},
   "outputs": [
    {
     "name": "stdout",
     "output_type": "stream",
     "text": [
      "AT 16-18\n",
      "AT 19\n",
      "AT 20-21\n",
      "AT 22-23\n",
      "AT 28\n",
      "AT 53\n",
      "AT 10-12\n",
      "AT 13-15\n",
      "AT 24-25\n",
      "AT 26-27\n",
      "AT 29-30\n",
      "AT C\n",
      "AT 49-52\n",
      "AT A\n",
      "AT B\n",
      "AT D-E\n",
      "AT F\n",
      "AT R-S\n",
      "BE 16-18\n",
      "BE 19\n",
      "BE 20-21\n",
      "BE 22-23\n",
      "BE 28\n",
      "BE 53\n",
      "BE 10-12\n",
      "BE 13-15\n",
      "BE 24-25\n",
      "BE 26-27\n",
      "BE 29-30\n",
      "BE C\n",
      "BE 49-52\n",
      "BE A\n",
      "BE B\n",
      "BE D-E\n",
      "BE F\n",
      "BE R-S\n",
      "DE 16-18\n",
      "DE 19\n",
      "DE 20-21\n",
      "DE 22-23\n",
      "DE 28\n",
      "DE 53\n",
      "DE 10-12\n",
      "DE 13-15\n",
      "DE 24-25\n",
      "DE 26-27\n",
      "DE 29-30\n",
      "DE C\n",
      "DE 49-52\n",
      "DE A\n",
      "DE B\n",
      "DE D-E\n",
      "DE F\n",
      "DE R-S\n",
      "DK 16-18\n",
      "DK 19\n",
      "DK 20-21\n",
      "DK 22-23\n",
      "DK 28\n",
      "DK 53\n",
      "DK 10-12\n",
      "DK 13-15\n",
      "DK 24-25\n",
      "DK 26-27\n",
      "DK 29-30\n",
      "DK C\n",
      "DK 49-52\n",
      "DK A\n",
      "DK B\n",
      "DK D-E\n",
      "DK F\n",
      "DK R-S\n",
      "ES 16-18\n",
      "ES 19\n",
      "ES 20-21\n",
      "ES 22-23\n",
      "ES 28\n",
      "ES 53\n",
      "ES 10-12\n",
      "ES 13-15\n",
      "ES 24-25\n",
      "ES 26-27\n",
      "ES 29-30\n",
      "ES C\n",
      "ES 49-52\n",
      "ES A\n",
      "ES B\n",
      "ES D-E\n",
      "ES F\n",
      "ES R-S\n",
      "FI 16-18\n",
      "FI 19\n",
      "FI 20-21\n",
      "FI 22-23\n",
      "FI 28\n",
      "FI 53\n",
      "FI 10-12\n",
      "FI 13-15\n",
      "FI 24-25\n",
      "FI 26-27\n",
      "FI 29-30\n",
      "FI C\n",
      "FI 49-52\n",
      "FI A\n",
      "FI B\n",
      "FI D-E\n",
      "FI F\n",
      "FI R-S\n",
      "FR 16-18\n",
      "FR 19\n",
      "FR 20-21\n",
      "FR 22-23\n",
      "FR 28\n",
      "FR 53\n",
      "FR 10-12\n",
      "FR 13-15\n",
      "FR 24-25\n",
      "FR 26-27\n",
      "FR 29-30\n",
      "FR C\n",
      "FR 49-52\n",
      "FR A\n",
      "FR B\n",
      "FR D-E\n",
      "FR F\n",
      "FR R-S\n",
      "IT 16-18\n",
      "IT 19\n",
      "IT 20-21\n",
      "IT 22-23\n",
      "IT 28\n",
      "IT 53\n",
      "IT 10-12\n",
      "IT 13-15\n",
      "IT 24-25\n",
      "IT 26-27\n",
      "IT 29-30\n",
      "IT C\n",
      "IT 49-52\n",
      "IT A\n",
      "IT B\n",
      "IT D-E\n",
      "IT F\n",
      "IT R-S\n",
      "NL 16-18\n",
      "NL 19\n",
      "NL 20-21\n",
      "NL 22-23\n",
      "NL 28\n",
      "NL 53\n",
      "NL 10-12\n",
      "NL 13-15\n",
      "NL 24-25\n",
      "NL 26-27\n",
      "NL 29-30\n",
      "NL C\n",
      "NL 49-52\n",
      "NL A\n",
      "NL B\n",
      "NL D-E\n",
      "NL F\n",
      "NL R-S\n",
      "UK 16-18\n",
      "UK 19\n",
      "UK 20-21\n",
      "UK 22-23\n",
      "UK 28\n",
      "UK 53\n",
      "UK 10-12\n",
      "UK 13-15\n",
      "UK 24-25\n",
      "UK 26-27\n",
      "UK 29-30\n",
      "UK C\n",
      "UK 49-52\n",
      "UK A\n",
      "UK B\n",
      "UK D-E\n",
      "UK F\n",
      "UK R-S\n",
      "US 16-18\n",
      "US 19\n",
      "US 20-21\n",
      "US 22-23\n",
      "US 28\n",
      "US 53\n",
      "US 10-12\n",
      "US 13-15\n",
      "US 24-25\n",
      "US 26-27\n",
      "US 29-30\n",
      "US C\n",
      "US 49-52\n",
      "US A\n",
      "US B\n",
      "US D-E\n",
      "US F\n",
      "US R-S\n"
     ]
    }
   ],
   "source": [
    "regressionDf = pd.DataFrame(columns=['Country', 'Sector', 'Score', 'StupidScore', 'N'])\n",
    "\n",
    "for country in countries:\n",
    "    for sector in sectors:\n",
    "        score, stupid_score, N = getRegressionScore(output_df, country, sector)\n",
    "        currDf = pd.DataFrame({'Country': country,\n",
    "                               'Sector': sector,\n",
    "                               'Score': score,\n",
    "                               'StupidScore': stupid_score,\n",
    "                               'N': N}, index=[0])\n",
    "        regressionDf = regressionDf.append(currDf, ignore_index = True)"
   ]
  },
  {
   "cell_type": "code",
   "execution_count": 253,
   "metadata": {},
   "outputs": [
    {
     "data": {
      "text/html": [
       "<div>\n",
       "<style scoped>\n",
       "    .dataframe tbody tr th:only-of-type {\n",
       "        vertical-align: middle;\n",
       "    }\n",
       "\n",
       "    .dataframe tbody tr th {\n",
       "        vertical-align: top;\n",
       "    }\n",
       "\n",
       "    .dataframe thead th {\n",
       "        text-align: right;\n",
       "    }\n",
       "</style>\n",
       "<table border=\"1\" class=\"dataframe\">\n",
       "  <thead>\n",
       "    <tr style=\"text-align: right;\">\n",
       "      <th></th>\n",
       "      <th>Score</th>\n",
       "      <th>StupidScore</th>\n",
       "    </tr>\n",
       "  </thead>\n",
       "  <tbody>\n",
       "    <tr>\n",
       "      <th>count</th>\n",
       "      <td>151.000000</td>\n",
       "      <td>151.000000</td>\n",
       "    </tr>\n",
       "    <tr>\n",
       "      <th>mean</th>\n",
       "      <td>0.940575</td>\n",
       "      <td>0.594277</td>\n",
       "    </tr>\n",
       "    <tr>\n",
       "      <th>std</th>\n",
       "      <td>0.123153</td>\n",
       "      <td>0.315183</td>\n",
       "    </tr>\n",
       "    <tr>\n",
       "      <th>min</th>\n",
       "      <td>0.185460</td>\n",
       "      <td>0.000225</td>\n",
       "    </tr>\n",
       "    <tr>\n",
       "      <th>25%</th>\n",
       "      <td>0.952233</td>\n",
       "      <td>0.364703</td>\n",
       "    </tr>\n",
       "    <tr>\n",
       "      <th>50%</th>\n",
       "      <td>0.982098</td>\n",
       "      <td>0.726527</td>\n",
       "    </tr>\n",
       "    <tr>\n",
       "      <th>75%</th>\n",
       "      <td>0.993658</td>\n",
       "      <td>0.854010</td>\n",
       "    </tr>\n",
       "    <tr>\n",
       "      <th>max</th>\n",
       "      <td>0.999324</td>\n",
       "      <td>0.986216</td>\n",
       "    </tr>\n",
       "  </tbody>\n",
       "</table>\n",
       "</div>"
      ],
      "text/plain": [
       "            Score  StupidScore\n",
       "count  151.000000   151.000000\n",
       "mean     0.940575     0.594277\n",
       "std      0.123153     0.315183\n",
       "min      0.185460     0.000225\n",
       "25%      0.952233     0.364703\n",
       "50%      0.982098     0.726527\n",
       "75%      0.993658     0.854010\n",
       "max      0.999324     0.986216"
      ]
     },
     "execution_count": 253,
     "metadata": {},
     "output_type": "execute_result"
    }
   ],
   "source": [
    "regressionDf.dropna().describe()"
   ]
  },
  {
   "cell_type": "code",
   "execution_count": 254,
   "metadata": {},
   "outputs": [
    {
     "data": {
      "text/html": [
       "<div>\n",
       "<style scoped>\n",
       "    .dataframe tbody tr th:only-of-type {\n",
       "        vertical-align: middle;\n",
       "    }\n",
       "\n",
       "    .dataframe tbody tr th {\n",
       "        vertical-align: top;\n",
       "    }\n",
       "\n",
       "    .dataframe thead th {\n",
       "        text-align: right;\n",
       "    }\n",
       "</style>\n",
       "<table border=\"1\" class=\"dataframe\">\n",
       "  <thead>\n",
       "    <tr style=\"text-align: right;\">\n",
       "      <th></th>\n",
       "      <th>Country</th>\n",
       "      <th>Sector</th>\n",
       "      <th>Score</th>\n",
       "      <th>StupidScore</th>\n",
       "      <th>N</th>\n",
       "    </tr>\n",
       "  </thead>\n",
       "  <tbody>\n",
       "    <tr>\n",
       "      <th>13</th>\n",
       "      <td>AT</td>\n",
       "      <td>A</td>\n",
       "      <td>0.815302</td>\n",
       "      <td>0.726614</td>\n",
       "      <td>21</td>\n",
       "    </tr>\n",
       "    <tr>\n",
       "      <th>21</th>\n",
       "      <td>BE</td>\n",
       "      <td>22-23</td>\n",
       "      <td>0.890733</td>\n",
       "      <td>0.284769</td>\n",
       "      <td>17</td>\n",
       "    </tr>\n",
       "    <tr>\n",
       "      <th>37</th>\n",
       "      <td>DE</td>\n",
       "      <td>19</td>\n",
       "      <td>0.708743</td>\n",
       "      <td>0.026592</td>\n",
       "      <td>21</td>\n",
       "    </tr>\n",
       "    <tr>\n",
       "      <th>49</th>\n",
       "      <td>DE</td>\n",
       "      <td>A</td>\n",
       "      <td>0.416355</td>\n",
       "      <td>0.176904</td>\n",
       "      <td>21</td>\n",
       "    </tr>\n",
       "    <tr>\n",
       "      <th>55</th>\n",
       "      <td>DK</td>\n",
       "      <td>19</td>\n",
       "      <td>0.762508</td>\n",
       "      <td>0.021325</td>\n",
       "      <td>21</td>\n",
       "    </tr>\n",
       "    <tr>\n",
       "      <th>59</th>\n",
       "      <td>DK</td>\n",
       "      <td>53</td>\n",
       "      <td>0.734707</td>\n",
       "      <td>0.015748</td>\n",
       "      <td>21</td>\n",
       "    </tr>\n",
       "    <tr>\n",
       "      <th>67</th>\n",
       "      <td>DK</td>\n",
       "      <td>A</td>\n",
       "      <td>0.563898</td>\n",
       "      <td>0.594656</td>\n",
       "      <td>21</td>\n",
       "    </tr>\n",
       "    <tr>\n",
       "      <th>68</th>\n",
       "      <td>DK</td>\n",
       "      <td>B</td>\n",
       "      <td>0.442446</td>\n",
       "      <td>0.140805</td>\n",
       "      <td>21</td>\n",
       "    </tr>\n",
       "    <tr>\n",
       "      <th>69</th>\n",
       "      <td>DK</td>\n",
       "      <td>D-E</td>\n",
       "      <td>0.862891</td>\n",
       "      <td>0.141944</td>\n",
       "      <td>21</td>\n",
       "    </tr>\n",
       "    <tr>\n",
       "      <th>95</th>\n",
       "      <td>FI</td>\n",
       "      <td>53</td>\n",
       "      <td>0.862254</td>\n",
       "      <td>0.467893</td>\n",
       "      <td>32</td>\n",
       "    </tr>\n",
       "    <tr>\n",
       "      <th>103</th>\n",
       "      <td>FI</td>\n",
       "      <td>A</td>\n",
       "      <td>0.658870</td>\n",
       "      <td>0.332116</td>\n",
       "      <td>32</td>\n",
       "    </tr>\n",
       "    <tr>\n",
       "      <th>139</th>\n",
       "      <td>IT</td>\n",
       "      <td>A</td>\n",
       "      <td>0.343533</td>\n",
       "      <td>0.000225</td>\n",
       "      <td>20</td>\n",
       "    </tr>\n",
       "    <tr>\n",
       "      <th>140</th>\n",
       "      <td>IT</td>\n",
       "      <td>B</td>\n",
       "      <td>0.869532</td>\n",
       "      <td>0.402514</td>\n",
       "      <td>20</td>\n",
       "    </tr>\n",
       "    <tr>\n",
       "      <th>158</th>\n",
       "      <td>NL</td>\n",
       "      <td>B</td>\n",
       "      <td>0.185460</td>\n",
       "      <td>0.001163</td>\n",
       "      <td>16</td>\n",
       "    </tr>\n",
       "    <tr>\n",
       "      <th>181</th>\n",
       "      <td>US</td>\n",
       "      <td>19</td>\n",
       "      <td>0.562960</td>\n",
       "      <td>0.640995</td>\n",
       "      <td>18</td>\n",
       "    </tr>\n",
       "    <tr>\n",
       "      <th>182</th>\n",
       "      <td>US</td>\n",
       "      <td>20-21</td>\n",
       "      <td>0.882256</td>\n",
       "      <td>0.163495</td>\n",
       "      <td>18</td>\n",
       "    </tr>\n",
       "    <tr>\n",
       "      <th>186</th>\n",
       "      <td>US</td>\n",
       "      <td>10-12</td>\n",
       "      <td>0.870698</td>\n",
       "      <td>0.852841</td>\n",
       "      <td>18</td>\n",
       "    </tr>\n",
       "    <tr>\n",
       "      <th>189</th>\n",
       "      <td>US</td>\n",
       "      <td>26-27</td>\n",
       "      <td>0.786794</td>\n",
       "      <td>0.579471</td>\n",
       "      <td>18</td>\n",
       "    </tr>\n",
       "    <tr>\n",
       "      <th>193</th>\n",
       "      <td>US</td>\n",
       "      <td>A</td>\n",
       "      <td>0.785667</td>\n",
       "      <td>0.731703</td>\n",
       "      <td>18</td>\n",
       "    </tr>\n",
       "  </tbody>\n",
       "</table>\n",
       "</div>"
      ],
      "text/plain": [
       "    Country Sector     Score  StupidScore   N\n",
       "13       AT      A  0.815302     0.726614  21\n",
       "21       BE  22-23  0.890733     0.284769  17\n",
       "37       DE     19  0.708743     0.026592  21\n",
       "49       DE      A  0.416355     0.176904  21\n",
       "55       DK     19  0.762508     0.021325  21\n",
       "59       DK     53  0.734707     0.015748  21\n",
       "67       DK      A  0.563898     0.594656  21\n",
       "68       DK      B  0.442446     0.140805  21\n",
       "69       DK    D-E  0.862891     0.141944  21\n",
       "95       FI     53  0.862254     0.467893  32\n",
       "103      FI      A  0.658870     0.332116  32\n",
       "139      IT      A  0.343533     0.000225  20\n",
       "140      IT      B  0.869532     0.402514  20\n",
       "158      NL      B  0.185460     0.001163  16\n",
       "181      US     19  0.562960     0.640995  18\n",
       "182      US  20-21  0.882256     0.163495  18\n",
       "186      US  10-12  0.870698     0.852841  18\n",
       "189      US  26-27  0.786794     0.579471  18\n",
       "193      US      A  0.785667     0.731703  18"
      ]
     },
     "execution_count": 254,
     "metadata": {},
     "output_type": "execute_result"
    }
   ],
   "source": [
    "regressionDf[regressionDf['Score']<0.9]"
   ]
  },
  {
   "cell_type": "code",
   "execution_count": 276,
   "metadata": {},
   "outputs": [
    {
     "data": {
      "text/plain": [
       "1"
      ]
     },
     "execution_count": 276,
     "metadata": {},
     "output_type": "execute_result"
    }
   ],
   "source": [
    "grid = np.random.binomial(1, 0.2, size=(3,3))\n",
    "indices =  np.random.randint(0, high=3, size=2)\n",
    "\n",
    "# Extract the row and column indices\n",
    "i = indices[0]\n",
    "j = indices[1]\n",
    "i \n",
    "j"
   ]
  },
  {
   "cell_type": "markdown",
   "metadata": {},
   "source": [
    "### Run experiments according to procedures in"
   ]
  },
  {
   "cell_type": "code",
   "execution_count": 277,
   "metadata": {},
   "outputs": [
    {
     "data": {
      "text/plain": [
       "7"
      ]
     },
     "execution_count": 277,
     "metadata": {},
     "output_type": "execute_result"
    }
   ],
   "source": [
    "np.random.choice(grid.size)"
   ]
  },
  {
   "cell_type": "code",
   "execution_count": 278,
   "metadata": {},
   "outputs": [
    {
     "data": {
      "text/plain": [
       "9"
      ]
     },
     "execution_count": 278,
     "metadata": {},
     "output_type": "execute_result"
    }
   ],
   "source": [
    "grid.size"
   ]
  },
  {
   "cell_type": "code",
   "execution_count": 279,
   "metadata": {},
   "outputs": [],
   "source": [
    "num_users = 5\n",
    "num_items = 9\n",
    "num_ratings = 10\n",
    "idx = np.random.choice(num_users*num_items, num_ratings, replace = False)"
   ]
  },
  {
   "cell_type": "code",
   "execution_count": 291,
   "metadata": {},
   "outputs": [],
   "source": [
    "user_idx = idx//num_items\n",
    "item_idx = idx%num_items"
   ]
  },
  {
   "cell_type": "code",
   "execution_count": 302,
   "metadata": {},
   "outputs": [],
   "source": [
    "def rate_item(user, item):\n",
    "    return np.random.choice(5)"
   ]
  },
  {
   "cell_type": "code",
   "execution_count": 310,
   "metadata": {
    "scrolled": true
   },
   "outputs": [],
   "source": [
    "ratings = list(map(rate_item, user_idx, item_idx))"
   ]
  },
  {
   "cell_type": "code",
   "execution_count": 314,
   "metadata": {},
   "outputs": [
    {
     "data": {
      "text/plain": [
       "array([[4, 8, 4],\n",
       "       [1, 5, 2],\n",
       "       [0, 4, 1],\n",
       "       [1, 4, 3],\n",
       "       [1, 6, 1],\n",
       "       [2, 3, 4],\n",
       "       [3, 3, 1],\n",
       "       [0, 7, 3],\n",
       "       [4, 6, 4],\n",
       "       [0, 0, 4]])"
      ]
     },
     "execution_count": 314,
     "metadata": {},
     "output_type": "execute_result"
    }
   ],
   "source": [
    "np.column_stack((user_idx, item_idx, ratings))"
   ]
  },
  {
   "cell_type": "code",
   "execution_count": 299,
   "metadata": {},
   "outputs": [
    {
     "data": {
      "text/plain": [
       "2"
      ]
     },
     "execution_count": 299,
     "metadata": {},
     "output_type": "execute_result"
    }
   ],
   "source": [
    "21//num_items"
   ]
  },
  {
   "cell_type": "code",
   "execution_count": null,
   "metadata": {},
   "outputs": [],
   "source": []
  }
 ],
 "metadata": {
  "kernelspec": {
   "display_name": "Python 3",
   "language": "python",
   "name": "python3"
  },
  "language_info": {
   "codemirror_mode": {
    "name": "ipython",
    "version": 3
   },
   "file_extension": ".py",
   "mimetype": "text/x-python",
   "name": "python",
   "nbconvert_exporter": "python",
   "pygments_lexer": "ipython3",
   "version": "3.7.3"
  }
 },
 "nbformat": 4,
 "nbformat_minor": 2
}
